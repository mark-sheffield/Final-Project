{
 "cells": [
  {
   "cell_type": "code",
   "execution_count": 13,
   "metadata": {},
   "outputs": [],
   "source": [
    "import pandas as pd\n",
    "import geopandas as gpd\n",
    "import descartes\n",
    "import matplotlib.pyplot as plt\n",
    "from shapely.geometry import Point, Polygon\n",
    "\n",
    "%matplotlib inline"
   ]
  },
  {
   "cell_type": "markdown",
   "metadata": {},
   "source": [
    "Import the necessary resources before starting"
   ]
  },
  {
   "cell_type": "code",
   "execution_count": 50,
   "metadata": {},
   "outputs": [
    {
     "data": {
      "text/plain": [
       "<matplotlib.axes._subplots.AxesSubplot at 0x7f21a00d16a0>"
      ]
     },
     "execution_count": 50,
     "metadata": {},
     "output_type": "execute_result"
    }
   ],
   "source": [
    "neighborhood = gpd.read_file(\"Neighborhoods_.shp\") #Read in file\n",
    "\n",
    "locations = pd.read_csv(\"https://data.wprdc.org/datastore/dump/9ed126cc-3c06-496e-bd08-b7b6b14b4109\")\n",
    "query_mask = locations['status'] == \"Active\"\n",
    "latitude_mask= locations['latitude'].notna()\n",
    "longitude_mask = locations['longitude'].notna()\n",
    "\n",
    "\n",
    "locations_active = locations[query_mask & latitude_mask & longitude_mask]\n",
    "locations_active.head(10)\n",
    "\n",
    "\n",
    "\n",
    "geometry = [Point(xy) for xy in zip(locations_active['latitude'], locations_active['longitude'])]\n",
    "\n",
    "locations_df = gpd.GeoDataFrame(locations_active, crs = 'epsg:4326', geometry = geometry)\n",
    "\n",
    "\n",
    "fig, ax = plt.subplots(figsize=(15,15))\n",
    "\n",
    "neighborhood.plot(ax=ax, alpha=0.4, color='gray')\n",
    "\n",
    "locations_df[locations_df['location_type'] == \"On street\"].plot(ax=ax, markersize=20, color='blue', marker=\"^\", label=\"On Street\")"
   ]
  },
  {
   "cell_type": "code",
   "execution_count": null,
   "metadata": {},
   "outputs": [],
   "source": []
  }
 ],
 "metadata": {
  "kernelspec": {
   "display_name": "Python 3",
   "language": "python",
   "name": "python3"
  },
  "language_info": {
   "codemirror_mode": {
    "name": "ipython",
    "version": 3
   },
   "file_extension": ".py",
   "mimetype": "text/x-python",
   "name": "python",
   "nbconvert_exporter": "python",
   "pygments_lexer": "ipython3",
   "version": "3.8.3"
  }
 },
 "nbformat": 4,
 "nbformat_minor": 4
}

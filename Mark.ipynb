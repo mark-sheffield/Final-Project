{
 "cells": [
  {
   "cell_type": "markdown",
   "metadata": {},
   "source": [
    "# Parking Meters in Pittsburgh\n",
    "*Notebook By Mark Sheffield*"
   ]
  },
  {
   "cell_type": "markdown",
   "metadata": {},
   "source": [
    "### The purpose of this Notebook is to show where the least number of parking meters would be ###"
   ]
  },
  {
   "cell_type": "markdown",
   "metadata": {},
   "source": [
    "## The Metric ##\n",
    "Parking meters are all over the city of Pittsburgh, and if you have a car, the cost to park can add up if you have to constantly pay these fees. The metric within this Notebook will look at the number of parking meters in each neighborhood in order to find where it will make sense to park if you are on a stricter budget in the city."
   ]
  },
  {
   "cell_type": "markdown",
   "metadata": {},
   "source": [
    "## Limitations of the Data ##\n",
    "The limitation of this data is that it does not show the cost of each parking meter, only that there is one at each location. Without the cost to park at each meter I can still analyze the number in the area, finding which neigborhood will give the most opportunites for free parking"
   ]
  },
  {
   "cell_type": "markdown",
   "metadata": {},
   "source": [
    "## Analyzing the Dataset ##\n",
    "This dataset includes"
   ]
  },
  {
   "cell_type": "markdown",
   "metadata": {},
   "source": [
    "Import the necessary resources before starting"
   ]
  },
  {
   "cell_type": "code",
   "execution_count": 1,
   "metadata": {},
   "outputs": [],
   "source": [
    "import pandas as pd\n",
    "import geopandas as gpd\n",
    "import descartes\n",
    "import matplotlib.pyplot as plt\n",
    "from shapely.geometry import Point, Polygon\n",
    "\n",
    "%matplotlib inline"
   ]
  },
  {
   "cell_type": "markdown",
   "metadata": {},
   "source": [
    "Read in the Parking meters CSV file"
   ]
  },
  {
   "cell_type": "code",
   "execution_count": null,
   "metadata": {},
   "outputs": [],
   "source": [
    "meters = pd.read_csv(\"https://data.wprdc.org/datastore/dump/9ed126cc-3c06-496e-bd08-b7b6b14b4109\")"
   ]
  },
  {
   "cell_type": "markdown",
   "metadata": {},
   "source": [
    "Filter out any Parking meters that are not active, or have a longitude with value NaN or Latitude with value NaN. Then apply the query mask. "
   ]
  },
  {
   "cell_type": "code",
   "execution_count": null,
   "metadata": {},
   "outputs": [],
   "source": [
    "query_mask = locations['status'] == \"Active\"\n",
    "latitude_mask= locations['latitude'].notna()\n",
    "longitude_mask = locations['longitude'].notna()"
   ]
  },
  {
   "cell_type": "code",
   "execution_count": 2,
   "metadata": {},
   "outputs": [
    {
     "data": {
      "text/plain": [
       "0    AxesSubplot(0.125,0.125;0.775x0.755)\n",
       "dtype: object"
      ]
     },
     "execution_count": 2,
     "metadata": {},
     "output_type": "execute_result"
    },
    {
     "data": {
      "image/png": "[encoded data removed]",
      "text/plain": [
       "<Figure size 432x288 with 1 Axes>"
      ]
     },
     "metadata": {
      "needs_background": "light"
     },
     "output_type": "display_data"
    }
   ],
   "source": [
    "neighborhood = gpd.read_file(\"Neighborhoods_.shp\") #Read in file\n",
    "\n",
    "\n",
    "\n",
    "\n",
    "\n",
    "locations_active = locations[query_mask & latitude_mask & longitude_mask]\n",
    "locations_active = locations_active.groupby(by=[\"zone\"].count, axis=0)\n",
    "locations_active.plot.bar(rot=1)"
   ]
  },
  {
   "cell_type": "code",
   "execution_count": 5,
   "metadata": {},
   "outputs": [
    {
     "data": {
      "text/plain": [
       "<matplotlib.axes._subplots.AxesSubplot at 0x7fa7da965910>"
      ]
     },
     "execution_count": 5,
     "metadata": {},
     "output_type": "execute_result"
    }
   ],
   "source": [
    "neighborhood = gpd.read_file(\"Neighborhoods_.shp\") #Read in file\n",
    "\n",
    "locations = pd.read_csv(\"https://data.wprdc.org/datastore/dump/9ed126cc-3c06-496e-bd08-b7b6b14b4109\")\n",
    "query_mask = locations['status'] == \"Active\"\n",
    "latitude_mask= locations['latitude'].notna()\n",
    "longitude_mask = locations['longitude'].notna()\n",
    "\n",
    "\n",
    "locations_active = locations[query_mask & latitude_mask & longitude_mask]\n",
    "locations_active.head(10)\n",
    "\n",
    "\n",
    "\n",
    "geometry = [Point(xy) for xy in zip(locations_active['latitude'], locations_active['longitude'])]\n",
    "\n",
    "locations_df = gpd.GeoDataFrame(locations_active, crs = 'epsg:4326', geometry = geometry)\n",
    "\n",
    "\n",
    "fig, ax = plt.subplots(figsize=(15,15))\n",
    "\n",
    "neighborhood.plot(ax=ax, alpha=0.4, color='gray')\n",
    "\n",
    "locations_df[locations_df['location_type'] == \"On street\"].plot(ax=ax, markersize=20, color='blue', marker=\"^\", label=\"On Street\")"
   ]
  },
  {
   "cell_type": "code",
   "execution_count": null,
   "metadata": {},
   "outputs": [],
   "source": []
  }
 ],
 "metadata": {
  "kernelspec": {
   "display_name": "Python 3",
   "language": "python",
   "name": "python3"
  },
  "language_info": {
   "codemirror_mode": {
    "name": "ipython",
    "version": 3
   },
   "file_extension": ".py",
   "mimetype": "text/x-python",
   "name": "python",
   "nbconvert_exporter": "python",
   "pygments_lexer": "ipython3",
   "version": "3.8.3"
  }
 },
 "nbformat": 4,
 "nbformat_minor": 4
}
